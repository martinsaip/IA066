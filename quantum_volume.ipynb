{
 "cells": [
  {
   "cell_type": "markdown",
   "metadata": {},
   "source": [
    "<img src=\"../../../images/qiskit_header.png\" alt=\"Note: In order for images to show up in this jupyter notebook you need to select File => Trusted Notebook\" align=\"middle\">"
   ]
  },
  {
   "cell_type": "markdown",
   "metadata": {},
   "source": [
    "## Quantum Volume\n",
    "---\n",
    "\n",
    "* **Last Updated:** August 6, 2019\n",
    "* **Requires:** qiskit-terra 0.8, qiskit-ignis 0.1.1, qiskit-aer 0.2\n",
    "\n",
    "\n",
    "## Introduction\n",
    "\n",
    "**Quantum Volume (QV)** is a method to verify device performance and a metric to quantify the computational power of a quantum device.  The method is based on the paper \"Validating quantum computers using randomized model circuits\" (arxiv.org/abs/1811.12926). \n",
    "\n",
    "This notebook gives an example for how to use the ``ignis.verification.quantum_volume`` module. This particular example shows how to run up to depth 6 quantum volume circuits and will run them using the noisy Aer simulator."
   ]
  },
  {
   "cell_type": "code",
   "execution_count": 25,
   "metadata": {},
   "outputs": [],
   "source": [
    "#Import general libraries (needed for functions)\n",
    "import numpy as np\n",
    "import matplotlib.pyplot as plt\n",
    "from IPython import display\n",
    "\n",
    "#Import Qiskit classes classes\n",
    "import qiskit\n",
    "from qiskit.providers.aer.noise import NoiseModel\n",
    "from qiskit.providers.aer.noise.errors.standard_errors import depolarizing_error, thermal_relaxation_error\n",
    "\n",
    "#Import the qv function.\n",
    "import qiskit.ignis.verification.quantum_volume as qv"
   ]
  },
  {
   "cell_type": "markdown",
   "metadata": {},
   "source": [
    "## Select the Parameters of the QV Run\n",
    "\n",
    "In this example we have 6 qubits Q0,Q1,Q3,Q5,Q7,Q10. We are going to look at subsets up to the full set."
   ]
  },
  {
   "cell_type": "code",
   "execution_count": 26,
   "metadata": {},
   "outputs": [],
   "source": [
    "# Qubit list\n",
    "qubit_lists = [[0,1,3],[0,1,3,5],[0,1,3,5,7],[0,1,3,5,7,10]]\n",
    "ntrials = 5    # the mini-version AKA when it's 4AM and you are tired, but in haste; default value is 50"
   ]
  },
  {
   "cell_type": "markdown",
   "metadata": {},
   "source": [
    "## Generate QV sequences\n",
    "\n",
    "We generate the quantum volume sequences. We start with a small example (so it doesn't take too long to run).\n"
   ]
  },
  {
   "cell_type": "code",
   "execution_count": 27,
   "metadata": {
    "scrolled": false
   },
   "outputs": [],
   "source": [
    "qv_circs, qv_circs_nomeas = qv.qv_circuits(qubit_lists, ntrials)"
   ]
  },
  {
   "cell_type": "code",
   "execution_count": 28,
   "metadata": {},
   "outputs": [],
   "source": [
    "# Pass the first trial of the nomeas through the transpiler to illustrate the circuit\n",
    "qv_circs_nomeas[0] = qiskit.compiler.transpile(qv_circs_nomeas[0], basis_gates=['u1','u2','u3','cx'])"
   ]
  },
  {
   "cell_type": "markdown",
   "metadata": {},
   "source": [
    "As an example, we print the circuit corresponding to the first QV sequence. Note that the ideal circuits are run on the first n qubits (where n is the number of qubits in the subset)."
   ]
  },
  {
   "cell_type": "code",
   "execution_count": 29,
   "metadata": {},
   "outputs": [
    {
     "name": "stdout",
     "output_type": "stream",
     "text": [
      "          ┌──────────────────────────┐┌───┐ ┌─────────────────────┐  ┌───┐»\n",
      "qr_0: |0>─┤ U3(2.8746,-2.943,2.1446) ├┤ X ├─┤ U3(pi/2,-pi,2.8411) ├──┤ X ├»\n",
      "         ┌┴──────────────────────────┤└─┬─┘ └─────────────────────┘  └─┬─┘»\n",
      "qr_1: |0>┤ U3(0.53939,-2.615,3.4534) ├──┼──────────────────────────────┼──»\n",
      "         ├───────────────────────────┤  │  ┌────────────────────────┐  │  »\n",
      "qr_2: |0>┤ U3(1.7324,2.5222,-2.4084) ├──■──┤ U3(0.36458,-pi/2,pi/2) ├──■──»\n",
      "         └───────────────────────────┘     └────────────────────────┘     »\n",
      " cr_0: 0 ═════════════════════════════════════════════════════════════════»\n",
      "                                                                          »\n",
      " cr_1: 0 ═════════════════════════════════════════════════════════════════»\n",
      "                                                                          »\n",
      " cr_2: 0 ═════════════════════════════════════════════════════════════════»\n",
      "                                                                          »\n",
      "«        ┌──────────────────┐ ┌───┐┌───────────────────────────┐     »\n",
      "«qr_0: ──┤ U3(pi/2,0,-pi/2) ├─┤ X ├┤ U3(1.248,-2.5612,-4.9919) ├─────»\n",
      "«        └──────────────────┘ └─┬─┘└───────────────────────────┘┌───┐»\n",
      "«qr_1: ─────────────────────────┼───────────────────────────────┤ X ├»\n",
      "«      ┌─────────────────────┐  │  ┌───────────────────────────┐└─┬─┘»\n",
      "«qr_2: ┤ U3(0.2515,-pi,pi/2) ├──■──┤ U3(2.6446,0.17989,2.0181) ├──■──»\n",
      "«      └─────────────────────┘     └───────────────────────────┘     »\n",
      "«cr_0: ══════════════════════════════════════════════════════════════»\n",
      "«                                                                    »\n",
      "«cr_1: ══════════════════════════════════════════════════════════════»\n",
      "«                                                                    »\n",
      "«cr_2: ══════════════════════════════════════════════════════════════»\n",
      "«                                                                    »\n",
      "«                                                                     »\n",
      "«qr_0: ───────────────────────────────────────────────────────────────»\n",
      "«       ┌─────────────────────┐  ┌───┐    ┌──────────────────┐   ┌───┐»\n",
      "«qr_1: ─┤ U3(pi/2,-pi,2.5564) ├──┤ X ├────┤ U3(pi/2,0,-pi/2) ├───┤ X ├»\n",
      "«      ┌┴─────────────────────┴─┐└─┬─┘┌───┴──────────────────┴──┐└─┬─┘»\n",
      "«qr_2: ┤ U3(0.16806,-pi/2,pi/2) ├──■──┤ U3(0.080644,-pi/1,pi/2) ├──■──»\n",
      "«      └────────────────────────┘     └─────────────────────────┘     »\n",
      "«cr_0: ═══════════════════════════════════════════════════════════════»\n",
      "«                                                                     »\n",
      "«cr_1: ═══════════════════════════════════════════════════════════════»\n",
      "«                                                                     »\n",
      "«cr_2: ═══════════════════════════════════════════════════════════════»\n",
      "«                                                                     »\n",
      "«                                   ┌───┐ ┌─────────────────────┐ ┌───┐»\n",
      "«qr_0: ─────────────────────────────┤ X ├─┤ U3(pi/2,-pi,3.1269) ├─┤ X ├»\n",
      "«      ┌───────────────────────────┐└─┬─┘┌┴─────────────────────┴┐└─┬─┘»\n",
      "«qr_1: ┤ U3(1.0233,0.57723,-2.073) ├──■──┤ U3(1.0172,-pi/2,pi/2) ├──■──»\n",
      "«      ├───────────────────────────┤     └───────────────────────┘     »\n",
      "«qr_2: ┤ U3(2.1531,1.6671,-2.6801) ├───────────────────────────────────»\n",
      "«      └───────────────────────────┘                                   »\n",
      "«cr_0: ════════════════════════════════════════════════════════════════»\n",
      "«                                                                      »\n",
      "«cr_1: ════════════════════════════════════════════════════════════════»\n",
      "«                                                                      »\n",
      "«cr_2: ════════════════════════════════════════════════════════════════»\n",
      "«                                                                      »\n",
      "«          ┌──────────────────┐   ┌───┐ ┌─────────────────────────┐ \n",
      "«qr_0: ────┤ U3(pi/2,0,-pi/2) ├───┤ X ├─┤ U3(2.454,2.2259,1.0487) ├─\n",
      "«      ┌───┴──────────────────┴──┐└─┬─┘┌┴─────────────────────────┴┐\n",
      "«qr_1: ┤ U3(0.080972,-pi/1,pi/2) ├──■──┤ U3(2.1083,1.3478,-1.4048) ├\n",
      "«      └─────────────────────────┘     └───────────────────────────┘\n",
      "«qr_2: ─────────────────────────────────────────────────────────────\n",
      "«                                                                   \n",
      "«cr_0: ═════════════════════════════════════════════════════════════\n",
      "«                                                                   \n",
      "«cr_1: ═════════════════════════════════════════════════════════════\n",
      "«                                                                   \n",
      "«cr_2: ═════════════════════════════════════════════════════════════\n",
      "«                                                                   \n"
     ]
    }
   ],
   "source": [
    "print(qv_circs_nomeas[0][0])"
   ]
  },
  {
   "cell_type": "markdown",
   "metadata": {},
   "source": [
    "## Simulate the ideal circuits"
   ]
  },
  {
   "cell_type": "markdown",
   "metadata": {},
   "source": [
    "The quantum volume method requires that we know the ideal output for each circuit, so use the statevector simulator in Aer to get the ideal result."
   ]
  },
  {
   "cell_type": "code",
   "execution_count": 30,
   "metadata": {},
   "outputs": [
    {
     "name": "stdout",
     "output_type": "stream",
     "text": [
      "Simulating trial 0\n",
      "Simulating trial 1\n",
      "Simulating trial 2\n",
      "Simulating trial 3\n",
      "Simulating trial 4\n"
     ]
    }
   ],
   "source": [
    "#The Unitary is an identity (with a global phase)\n",
    "backend = qiskit.Aer.get_backend('statevector_simulator')\n",
    "ideal_results = []\n",
    "for trial in range(ntrials):\n",
    "    print('Simulating trial %d'%trial)\n",
    "    ideal_results.append(qiskit.execute(qv_circs_nomeas[trial], backend=backend, optimization_level=0).result())"
   ]
  },
  {
   "cell_type": "markdown",
   "metadata": {},
   "source": [
    "Next, load the ideal results into a quantum volume fitter"
   ]
  },
  {
   "cell_type": "code",
   "execution_count": 31,
   "metadata": {},
   "outputs": [],
   "source": [
    "qv_fitter = qv.QVFitter(qubit_lists=qubit_lists)\n",
    "qv_fitter.add_statevectors(ideal_results)"
   ]
  },
  {
   "cell_type": "markdown",
   "metadata": {},
   "source": [
    "## Define the noise model"
   ]
  },
  {
   "cell_type": "markdown",
   "metadata": {},
   "source": [
    "In case of running the code on the simulator, define a noise model for it. To simulate decay, we add depolarizing error probabilities to the CNOT and U gates."
   ]
  },
  {
   "cell_type": "code",
   "execution_count": 32,
   "metadata": {},
   "outputs": [],
   "source": [
    "noise_model = NoiseModel()\n",
    "p1Q = 0.002\n",
    "p2Q = 0.02\n",
    "noise_model.add_all_qubit_quantum_error(depolarizing_error(p1Q, 1), 'u2')\n",
    "noise_model.add_all_qubit_quantum_error(depolarizing_error(2*p1Q, 1), 'u3')\n",
    "noise_model.add_all_qubit_quantum_error(depolarizing_error(p2Q, 2), 'cx')\n",
    "#noise_model = None"
   ]
  },
  {
   "cell_type": "raw",
   "metadata": {},
   "source": [
    "## Execute on Aer simulator or a real quantum processor\n",
    "\n",
    "We can execute the QV sequences either using Qiskit Aer Simulator (with some noise model) or using IBMQ provider, \n",
    "and obtain a list of results **result_list**."
   ]
  },
  {
   "cell_type": "code",
   "execution_count": 33,
   "metadata": {},
   "outputs": [
    {
     "name": "stdout",
     "output_type": "stream",
     "text": [
      "Running trial 0\n"
     ]
    },
    {
     "name": "stderr",
     "output_type": "stream",
     "text": [
      "/opt/conda/lib/python3.7/site-packages/qiskit/providers/ibmq/ibmqfactory.py:595: DeprecationWarning: IBMQ.get_backend() is being deprecated. Please use IBMQ.get_provider() to retrieve a provider and AccountProvider.get_backend(\"name\") to retrieve a backend.\n",
      "  DeprecationWarning)\n"
     ]
    },
    {
     "name": "stdout",
     "output_type": "stream",
     "text": [
      "Running trial 1\n",
      "Running trial 2\n",
      "Running trial 3\n",
      "Running trial 4\n"
     ]
    }
   ],
   "source": [
    "qiskit.aqua.register_ibmq_and_get_known_providers() # this command is necessary when working with physical QC\n",
    "backend = qiskit.IBMQ.get_backend('ibmq_16_melbourne') # Feel free to use any backend, including a classical one, i.e. the simulator\n",
    "basis_gates = ['u1','u2','u3','cx'] # use U,CX for now\n",
    "shots = 1024\n",
    "exp_results = []\n",
    "for trial in range(ntrials):\n",
    "    print('Running trial %d'%trial)\n",
    "    exp_results.append(qiskit.execute(qv_circs[trial], basis_gates=basis_gates, backend=backend).result())"
   ]
  },
  {
   "cell_type": "markdown",
   "metadata": {},
   "source": [
    "\n",
    "Load the experimental data into the fitter. The data will keep accumulating if this is re-run (unless the fitter is re-instantiated)."
   ]
  },
  {
   "cell_type": "code",
   "execution_count": 34,
   "metadata": {},
   "outputs": [],
   "source": [
    "qv_fitter.add_data(exp_results)"
   ]
  },
  {
   "cell_type": "code",
   "execution_count": 35,
   "metadata": {},
   "outputs": [
    {
     "data": {
      "image/png": "[encoded data removed]",
      "text/plain": [
       "<Figure size 720x432 with 1 Axes>"
      ]
     },
     "metadata": {
      "needs_background": "light"
     },
     "output_type": "display_data"
    }
   ],
   "source": [
    "plt.figure(figsize=(10, 6))\n",
    "ax = plt.gca()\n",
    "\n",
    "# Plot the essence by calling plot_rb_data\n",
    "qv_fitter.plot_qv_data(ax=ax, show_plt=False)\n",
    "\n",
    "# Add title and label\n",
    "ax.set_title('Quantum Volume for up to %d Qubits \\n and %d Trials'%(len(qubit_lists[-1]), ntrials), fontsize=18)\n",
    "\n",
    "plt.show()"
   ]
  },
  {
   "cell_type": "markdown",
   "metadata": {},
   "source": [
    "## Quantum Volume\n",
    "List statistics for each depth. For each depth list if the depth was successful or not and with what confidence interval. For a depth to be sucessful the confidence interval must be > 97.5%."
   ]
  },
  {
   "cell_type": "code",
   "execution_count": 36,
   "metadata": {},
   "outputs": [
    {
     "name": "stdout",
     "output_type": "stream",
     "text": [
      "Width/depth 3 less than 2/3 (unsuccessful).\n",
      "Width/depth 4 less than 2/3 (unsuccessful).\n",
      "Width/depth 5 less than 2/3 (unsuccessful).\n",
      "Width/depth 6 less than 2/3 (unsuccessful).\n"
     ]
    }
   ],
   "source": [
    "qv_success_list = qv_fitter.qv_success()\n",
    "qv_list = qv_fitter.ydata\n",
    "for qidx, qubit_list in enumerate(qubit_lists):\n",
    "    if qv_list[0][qidx]>2/3:\n",
    "        if qv_success_list[qidx][0]:\n",
    "            print(\"Width/depth %d greater than 2/3 (%f) with confidence %f (successful). Quantum volume %d\"%\n",
    "                  (len(qubit_list),qv_list[0][qidx],qv_success_list[qidx][1],qv_fitter.quantum_volume()[qidx]))\n",
    "        else:\n",
    "            print(\"Width/depth %d greater than 2/3 (%f) with confidence %f (unsuccessful).\"%\n",
    "                  (len(qubit_list),qv_list[0][qidx],qv_success_list[qidx][1]))\n",
    "    else:\n",
    "        print(\"Width/depth %d less than 2/3 (unsuccessful).\"%len(qubit_list))"
   ]
  },
  {
   "cell_type": "code",
   "execution_count": 37,
   "metadata": {
    "ExecuteTime": {
     "end_time": "2019-08-22T01:35:08.040110Z",
     "start_time": "2019-08-22T01:35:08.030947Z"
    }
   },
   "outputs": [
    {
     "data": {
      "text/html": [
       "<h3>Version Information</h3><table><tr><th>Qiskit Software</th><th>Version</th></tr><tr><td>Qiskit</td><td>0.13.0</td></tr><tr><td>Terra</td><td>0.10.0</td></tr><tr><td>Aer</td><td>0.3.2</td></tr><tr><td>Ignis</td><td>0.2.0</td></tr><tr><td>Aqua</td><td>0.6.1</td></tr><tr><td>IBM Q Provider</td><td>0.3.3</td></tr><tr><th>System information</th></tr><tr><td>Python</td><td>3.7.3 | packaged by conda-forge | (default, Jul  1 2019, 21:52:21) \n",
       "[GCC 7.3.0]</td></tr><tr><td>OS</td><td>Linux</td></tr><tr><td>CPUs</td><td>8</td></tr><tr><td>Memory (Gb)</td><td>31.409282684326172</td></tr><tr><td colspan='2'>Wed Dec 04 04:00:43 2019 UTC</td></tr></table>"
      ],
      "text/plain": [
       "<IPython.core.display.HTML object>"
      ]
     },
     "metadata": {},
     "output_type": "display_data"
    },
    {
     "data": {
      "text/html": [
       "<div style='width: 100%; background-color:#d5d9e0;padding-left: 10px; padding-bottom: 10px; padding-right: 10px; padding-top: 5px'><h3>This code is a part of Qiskit</h3><p>&copy; Copyright IBM 2017, 2019.</p><p>This code is licensed under the Apache License, Version 2.0. You may<br>obtain a copy of this license in the LICENSE.txt file in the root directory<br> of this source tree or at http://www.apache.org/licenses/LICENSE-2.0.<p>Any modifications or derivative works of this code must retain this<br>copyright notice, and modified files need to carry a notice indicating<br>that they have been altered from the originals.</p></div>"
      ],
      "text/plain": [
       "<IPython.core.display.HTML object>"
      ]
     },
     "metadata": {},
     "output_type": "display_data"
    }
   ],
   "source": [
    "import qiskit.tools.jupyter\n",
    "%qiskit_version_table\n",
    "%qiskit_copyright"
   ]
  },
  {
   "cell_type": "code",
   "execution_count": null,
   "metadata": {},
   "outputs": [],
   "source": []
  }
 ],
 "metadata": {
  "kernelspec": {
   "display_name": "Python 3",
   "language": "python",
   "name": "python3"
  },
  "language_info": {
   "codemirror_mode": {
    "name": "ipython",
    "version": 3
   },
   "file_extension": ".py",
   "mimetype": "text/x-python",
   "name": "python",
   "nbconvert_exporter": "python",
   "pygments_lexer": "ipython3",
   "version": "3.7.3"
  },
  "varInspector": {
   "cols": {
    "lenName": 16,
    "lenType": 16,
    "lenVar": 40
   },
   "kernels_config": {
    "python": {
     "delete_cmd_postfix": "",
     "delete_cmd_prefix": "del ",
     "library": "var_list.py",
     "varRefreshCmd": "print(var_dic_list())"
    },
    "r": {
     "delete_cmd_postfix": ") ",
     "delete_cmd_prefix": "rm(",
     "library": "var_list.r",
     "varRefreshCmd": "cat(var_dic_list()) "
    }
   },
   "types_to_exclude": [
    "module",
    "function",
    "builtin_function_or_method",
    "instance",
    "_Feature"
   ],
   "window_display": false
  }
 },
 "nbformat": 4,
 "nbformat_minor": 2
}
